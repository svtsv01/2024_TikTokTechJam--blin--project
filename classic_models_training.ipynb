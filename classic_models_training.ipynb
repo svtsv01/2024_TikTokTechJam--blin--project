{
 "cells": [
  {
   "cell_type": "code",
   "execution_count": 1,
   "metadata": {},
   "outputs": [],
   "source": [
    "import pandas as pd \n",
    "import json\n",
    "import math\n",
    "import random\n",
    "import numpy as np\n",
    "import spacy\n",
    "from sklearn.feature_extraction.text import CountVectorizer\n",
    "from sklearn.model_selection import train_test_split\n",
    "from sklearn.linear_model import LogisticRegression\n",
    "from sklearn.metrics import confusion_matrix, classification_report, accuracy_score\n",
    "from matplotlib import pyplot as plt\n",
    "import seaborn as sns"
   ]
  },
  {
   "cell_type": "code",
   "execution_count": 2,
   "metadata": {},
   "outputs": [],
   "source": [
    "#import json datafile and convert to dataframe\n",
    "file = './Data_src/HateXplain.json'\n",
    "with open(file) as train_file:\n",
    "    dict_train = json.load(train_file)\n",
    "\n",
    "train = pd.DataFrame.from_dict(dict_train, orient='index')\n",
    "train.reset_index(level=0, inplace=True)"
   ]
  },
  {
   "cell_type": "code",
   "execution_count": 3,
   "metadata": {},
   "outputs": [],
   "source": [
    "#pick a random annotator's label\n",
    "\n",
    "def annotatorSelect(i):\n",
    "\n",
    "    annontators = train[\"annotators\"][i]\n",
    "    annotator = annontators[math.floor(random.uniform(0, 1)*len(annontators))]\n",
    "    \n",
    "    return  0 if annotator['label'] == \"normal\" else 1 if annotator['label'] == \"offensive\" else 2\n",
    "\n",
    "labels_list = []\n",
    "for i in range(len(train)):\n",
    "    labels_list.append(annotatorSelect(i))\n",
    "    \n",
    "labels = np.array(labels_list)"
   ]
  },
  {
   "cell_type": "code",
   "execution_count": 4,
   "metadata": {},
   "outputs": [],
   "source": [
    "#convert tokenized text to string\n",
    "def toString(tokens_list):\n",
    "    return [' '.join(tokens) for tokens in tokens_list]\n",
    "\n",
    "text = train['post_tokens'].to_numpy()\n",
    "text_ = toString(text)"
   ]
  },
  {
   "cell_type": "code",
   "execution_count": 6,
   "metadata": {},
   "outputs": [],
   "source": [
    "#load an nlp model from SpaCy\n",
    "nlp = spacy.load(\"en_core_web_md\")"
   ]
  },
  {
   "cell_type": "code",
   "execution_count": 7,
   "metadata": {},
   "outputs": [],
   "source": [
    "#vectorize the text using word2vec\n",
    "textVect = []\n",
    "\n",
    "for string in text_:\n",
    "     textVect.append(nlp(string).vector)\n",
    "\n",
    "textVect = np.array(textVect)"
   ]
  },
  {
   "cell_type": "code",
   "execution_count": 8,
   "metadata": {},
   "outputs": [],
   "source": [
    "#train test split\n",
    "X_train, X_test, y_train, y_test = train_test_split(textVect, labels, random_state = 228, test_size=0.2)"
   ]
  },
  {
   "cell_type": "code",
   "execution_count": 9,
   "metadata": {},
   "outputs": [
    {
     "name": "stdout",
     "output_type": "stream",
     "text": [
      "Report for MLP:               precision    recall  f1-score   support\n",
      "\n",
      "           0       0.52      0.58      0.55      1587\n",
      "           1       0.38      0.33      0.35      1238\n",
      "           2       0.50      0.48      0.49      1205\n",
      "\n",
      "    accuracy                           0.48      4030\n",
      "   macro avg       0.46      0.47      0.46      4030\n",
      "weighted avg       0.47      0.48      0.47      4030\n",
      "\n",
      "Accuracy for MLP: 0.47543424317617866\n",
      "Report for Gradient Booster:               precision    recall  f1-score   support\n",
      "\n",
      "           0       0.51      0.73      0.60      1587\n",
      "           1       0.46      0.23      0.30      1238\n",
      "           2       0.53      0.51      0.52      1205\n",
      "\n",
      "    accuracy                           0.51      4030\n",
      "   macro avg       0.50      0.49      0.47      4030\n",
      "weighted avg       0.50      0.51      0.49      4030\n",
      "\n",
      "Accuracy for Gradient Booster: 0.509181141439206\n",
      "Report for Gradient Booster:               precision    recall  f1-score   support\n",
      "\n",
      "           0       0.50      0.74      0.60      1587\n",
      "           1       0.41      0.14      0.21      1238\n",
      "           2       0.49      0.53      0.50      1205\n",
      "\n",
      "    accuracy                           0.49      4030\n",
      "   macro avg       0.47      0.47      0.44      4030\n",
      "weighted avg       0.47      0.49      0.45      4030\n",
      "\n",
      "Accuracy for Gradient Booster: 0.4890818858560794\n"
     ]
    }
   ],
   "source": [
    "#model training\n",
    "\n",
    "import threading\n",
    "from sklearn.neural_network import MLPClassifier\n",
    "from sklearn.svm import SVC\n",
    "from sklearn.ensemble import GradientBoostingClassifier\n",
    "\n",
    "def TrainNN():\n",
    "    nn = MLPClassifier(max_iter = 300, hidden_layer_sizes=[100, 100, 100, 100, 100])\n",
    "    nn.fit(X_train, y_train)\n",
    "\n",
    "    y_pred_nn = nn.predict(X_test)\n",
    "    report_nn = classification_report(y_test, y_pred_nn)\n",
    "    accuracy_nn = accuracy_score(y_test, y_pred_nn)\n",
    "    #cm = confusion_matrix(y_test, y_pred)\n",
    "    print('Report for MLP:', report_nn)\n",
    "    print('Accuracy for MLP:', accuracy_nn)\n",
    "    #sns.heatmap(cm, annot=True, fmt='d')\n",
    "\n",
    "def TrainGB():\n",
    "    clf = GradientBoostingClassifier(verbose=False)\n",
    "    clf.fit(X_train, y_train)\n",
    "\n",
    "    y_pred_gb = clf.predict(X_test)\n",
    "    report_gb = classification_report(y_test, y_pred_gb)\n",
    "    accuracy_gb = accuracy_score(y_test, y_pred_gb)\n",
    "    #cm = confusion_matrix(y_test, y_pred)\n",
    "    print('Report for Gradient Booster:', report_gb)\n",
    "    print('Accuracy for Gradient Booster:', accuracy_gb)\n",
    "    #sns.heatmap(cm, annot=True, fmt='d')\n",
    "\n",
    "def TrainSVM():\n",
    "    SVM = SVC(C=1.0, kernel='linear', degree=3, gamma='auto')\n",
    "    SVM.fit(X_train, y_train)\n",
    "\n",
    "    y_pred_svm = SVM.predict(X_test)\n",
    "    report_svm = classification_report(y_test, y_pred_svm)\n",
    "    accuracy_svm = accuracy_score(y_test, y_pred_svm)\n",
    "    #cm = confusion_matrix(y_test, y_pred)\n",
    "    print('Report for Gradient Booster:', report_svm)\n",
    "    print('Accuracy for Gradient Booster:', accuracy_svm)\n",
    "\n",
    "    #sns.heatmap(cm, annot=True, fmt='d')\n",
    "\n",
    "t1 = threading.Thread(target=TrainNN, args=())\n",
    "t2 = threading.Thread(target=TrainGB, args=())\n",
    "t3 = threading.Thread(target=TrainSVM, args=())\n",
    "\n",
    "t1.start()\n",
    "t2.start()\n",
    "t3.start()\n",
    "\n",
    "\n",
    "t1.join()\n",
    "t2.join()\n",
    "t3.join()\n"
   ]
  },
  {
   "cell_type": "code",
   "execution_count": null,
   "metadata": {},
   "outputs": [],
   "source": []
  }
 ],
 "metadata": {
  "kernelspec": {
   "display_name": "Python 3",
   "language": "python",
   "name": "python3"
  },
  "language_info": {
   "codemirror_mode": {
    "name": "ipython",
    "version": 3
   },
   "file_extension": ".py",
   "mimetype": "text/x-python",
   "name": "python",
   "nbconvert_exporter": "python",
   "pygments_lexer": "ipython3",
   "version": "3.11.5"
  }
 },
 "nbformat": 4,
 "nbformat_minor": 2
}
